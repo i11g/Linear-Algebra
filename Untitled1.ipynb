{
 "cells": [
  {
   "cell_type": "code",
   "execution_count": 2,
   "id": "d1276d19-f736-4ec9-8585-1ebcfdefc3a9",
   "metadata": {},
   "outputs": [
    {
     "ename": "NameError",
     "evalue": "name 'requests' is not defined",
     "output_type": "error",
     "traceback": [
      "\u001b[31m---------------------------------------------------------------------------\u001b[39m",
      "\u001b[31mNameError\u001b[39m                                 Traceback (most recent call last)",
      "\u001b[36mCell\u001b[39m\u001b[36m \u001b[39m\u001b[32mIn[2]\u001b[39m\u001b[32m, line 14\u001b[39m\n\u001b[32m     11\u001b[39m buildings_image_url = \u001b[33m\"\u001b[39m\u001b[33mhttps://cdn.britannica.com/96/1296-050-4A65097D/gelding-bay-coat.jpg\u001b[39m\u001b[33m\"\u001b[39m\n\u001b[32m     13\u001b[39m \u001b[38;5;66;03m# Read + plot\u001b[39;00m\n\u001b[32m---> \u001b[39m\u001b[32m14\u001b[39m build_image = read_my_image(buildings_image_url)\n\u001b[32m     16\u001b[39m plt.figure(figsize=(\u001b[32m8\u001b[39m, \u001b[32m6\u001b[39m))\n\u001b[32m     17\u001b[39m plt.imshow(build_image)\n",
      "\u001b[36mCell\u001b[39m\u001b[36m \u001b[39m\u001b[32mIn[2]\u001b[39m\u001b[32m, line 3\u001b[39m, in \u001b[36mread_my_image\u001b[39m\u001b[34m(url)\u001b[39m\n\u001b[32m      1\u001b[39m \u001b[38;5;28;01mdef\u001b[39;00m \u001b[34mread_my_image\u001b[39m(url: \u001b[38;5;28mstr\u001b[39m):\n\u001b[32m      2\u001b[39m     \u001b[38;5;66;03m# 1) Fetch the bytes\u001b[39;00m\n\u001b[32m----> \u001b[39m\u001b[32m3\u001b[39m     resp = requests.get(url)\n\u001b[32m      4\u001b[39m     resp.raise_for_status()   \u001b[38;5;66;03m# will stop if we got a 4xx/5xx\u001b[39;00m\n\u001b[32m      6\u001b[39m     \u001b[38;5;66;03m# 2) Wrap in BytesIO and hand to imread\u001b[39;00m\n",
      "\u001b[31mNameError\u001b[39m: name 'requests' is not defined"
     ]
    }
   ],
   "source": [
    "def read_my_image(url: str):\n",
    "    # 1) Fetch the bytes\n",
    "    resp = requests.get(url)\n",
    "    resp.raise_for_status()   # will stop if we got a 4xx/5xx\n",
    "    \n",
    "    # 2) Wrap in BytesIO and hand to imread\n",
    "    img = imread(BytesIO(resp.content))\n",
    "    return img\n",
    "\n",
    "# URL of your test image\n",
    "buildings_image_url = \"https://cdn.britannica.com/96/1296-050-4A65097D/gelding-bay-coat.jpg\"\n",
    "\n",
    "# Read + plot\n",
    "build_image = read_my_image(buildings_image_url)\n",
    "\n",
    "plt.figure(figsize=(8, 6))\n",
    "plt.imshow(build_image)\n",
    "plt.axis(\"off\")\n",
    "plt.show()"
   ]
  },
  {
   "cell_type": "code",
   "execution_count": null,
   "id": "e07d7da5-191e-49ae-83fe-434b70f2ca30",
   "metadata": {},
   "outputs": [],
   "source": []
  }
 ],
 "metadata": {
  "kernelspec": {
   "display_name": "Python (myenv)",
   "language": "python",
   "name": "myenv"
  },
  "language_info": {
   "codemirror_mode": {
    "name": "ipython",
    "version": 3
   },
   "file_extension": ".py",
   "mimetype": "text/x-python",
   "name": "python",
   "nbconvert_exporter": "python",
   "pygments_lexer": "ipython3",
   "version": "3.12.3"
  }
 },
 "nbformat": 4,
 "nbformat_minor": 5
}
