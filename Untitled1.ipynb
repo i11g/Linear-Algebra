{
 "cells": [
  {
   "cell_type": "code",
   "execution_count": 3,
   "id": "d3808e9d-332d-4e4b-a0a2-ff19487d03a2",
   "metadata": {},
   "outputs": [
    {
     "name": "stdout",
     "output_type": "stream",
     "text": [
      "Click exactly 4 points in the window (Esc to exit)...\n",
      "  ➜  Click #1 at (124, 294)\n",
      "  ➜  Click #2 at (355, 144)\n",
      "  ➜  Click #3 at (393, 271)\n",
      "  ➜  Click #4 at (149, 390)\n",
      "Final points: [(124, 294), (355, 144), (393, 271), (149, 390)]\n",
      "Press any key to exit.\n"
     ]
    }
   ],
   "source": [
    "import cv2\n",
    "import numpy as np\n",
    "\n",
    "# Load the image\n",
    "img = cv2.imread('tilted.jpg')\n",
    "orig = img.copy()\n",
    "if img is None:\n",
    "    raise FileNotFoundError(\"Make sure 'tilted.jpg' is in this folder.\")\n",
    "\n",
    "pts = []\n",
    "\n",
    "def on_mouse(event, x, y, flags, param):\n",
    "    if event == cv2.EVENT_LBUTTONDOWN and len(pts) < 4:\n",
    "        pts.append((x, y))\n",
    "        print(f\"  ➜  Click #{len(pts)} at ({x}, {y})\")\n",
    "        cv2.circle(img, (x, y), 5, (0, 0, 255), -1)\n",
    "        cv2.imshow('Select 4 corners', img)\n",
    "\n",
    "cv2.namedWindow('Select 4 corners')\n",
    "cv2.setMouseCallback('Select 4 corners', on_mouse)\n",
    "cv2.imshow('Select 4 corners', img)\n",
    "\n",
    "print(\"Click exactly 4 points in the window (Esc to exit)...\")\n",
    "while True:\n",
    "    key = cv2.waitKey(1) & 0xFF\n",
    "    if len(pts) >= 4 or key == 27:\n",
    "        break\n",
    "\n",
    "cv2.destroyAllWindows()\n",
    "print(\"Final points:\", pts)\n",
    "\n",
    "if len(pts) < 4:\n",
    "    print(\"Aborted: fewer than 4 points selected.\")\n",
    "    exit()\n",
    "\n",
    "# 4. Convert to np.float32 and unpack\n",
    "pts_src = np.array(pts, dtype=np.float32)\n",
    "(tl, tr, br, bl) = pts_src\n",
    "\n",
    "# 5. Compute max width and height of the new image\n",
    "widthA  = np.linalg.norm(br - bl)\n",
    "widthB  = np.linalg.norm(tr - tl)\n",
    "maxW    = max(int(widthA), int(widthB))\n",
    "\n",
    "heightA = np.linalg.norm(tr - br)\n",
    "heightB = np.linalg.norm(tl - bl)\n",
    "maxH    = max(int(heightA), int(heightB))\n",
    "\n",
    "# 6. Define destination corners (perfect rectangle)\n",
    "pts_dst = np.array([\n",
    "    [0,      0],\n",
    "    [maxW-1, 0],\n",
    "    [maxW-1, maxH-1],\n",
    "    [0,      maxH-1]\n",
    "], dtype=np.float32)\n",
    "\n",
    "# 7. Compute homography H and warp\n",
    "H       = cv2.getPerspectiveTransform(pts_src, pts_dst)\n",
    "warped  = cv2.warpPerspective(orig, H, (maxW, maxH))\n",
    "\n",
    "# 8. Show results\n",
    "cv2.imshow(\"Original\", orig)\n",
    "cv2.imshow(\"Rectified\", warped)\n",
    "print(\"Press any key to exit.\")\n",
    "cv2.waitKey(0)\n",
    "cv2.destroyAllWindows()"
   ]
  },
  {
   "cell_type": "code",
   "execution_count": null,
   "id": "a18aca47-e49c-46c1-a245-67188b580dd2",
   "metadata": {},
   "outputs": [],
   "source": []
  },
  {
   "cell_type": "code",
   "execution_count": null,
   "id": "3c988093-dcf1-4514-b8ed-cf46f1e5b694",
   "metadata": {},
   "outputs": [],
   "source": []
  }
 ],
 "metadata": {
  "kernelspec": {
   "display_name": "Python (myenv)",
   "language": "python",
   "name": "myenv"
  },
  "language_info": {
   "codemirror_mode": {
    "name": "ipython",
    "version": 3
   },
   "file_extension": ".py",
   "mimetype": "text/x-python",
   "name": "python",
   "nbconvert_exporter": "python",
   "pygments_lexer": "ipython3",
   "version": "3.12.3"
  }
 },
 "nbformat": 4,
 "nbformat_minor": 5
}
