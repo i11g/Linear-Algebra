{
 "cells": [
  {
   "cell_type": "code",
   "execution_count": 1,
   "id": "dabaf786-4b9e-4a77-97f5-e8ece0dddf54",
   "metadata": {
    "scrolled": true
   },
   "outputs": [],
   "source": [
    "%matplotlib notebook\n",
    "import cv2\n",
    "import numpy as np\n",
    "import matplotlib\n",
    "matplotlib.use('TkAgg')   # or 'Qt5Agg' if you have Qt installed\n",
    "import matplotlib.pyplot as plt\n",
    "\n",
    "# 1. Load the tilted image\n",
    "img = cv2.imread('1.jpg')\n",
    "if img is None:\n",
    "    raise FileNotFoundError(\"Make sure 'tilted.jpg' is in your working directory.\")\n",
    "# Convert BGR to RGB for matplotlib\n",
    "img_rgb = cv2.cvtColor(img, cv2.COLOR_BGR2RGB)\n",
    "\n",
    "# 2. Display and select 4 corners with matplotlib\n",
    "plt.figure()\n",
    "plt.imshow(img_rgb)\n",
    "plt.title('Click 4 corners of the document (in order)')\n",
    "plt.axis('off')\n",
    "pts_src = plt.ginput(4, timeout=0)\n",
    "plt.close()\n",
    "pts_src = np.array(pts_src, dtype=np.float32)\n",
    "\n",
    "# 3. Define destination rectangle (adjust w,h as needed)\n",
    "w, h = 620, 434\n",
    "pts_dst = np.array([\n",
    "    [0,   0],\n",
    "    [w-1, 0],\n",
    "    [w-1, h-1],\n",
    "    [0,   h-1]\n",
    "], dtype=np.float32)\n",
    "\n",
    "# 4. Compute homography\n",
    "H = cv2.getPerspectiveTransform(pts_src, pts_dst)\n",
    "\n",
    "# 5. Warp perspective\n",
    "warped = cv2.warpPerspective(img_rgb, H, (w, h))\n",
    "\n",
    "# 6. Display original and rectified side by side\n",
    "plt.figure(figsize=(12, 6))\n",
    "plt.subplot(1, 2, 1)\n",
    "plt.imshow(img_rgb)\n",
    "plt.title('Original Tilted Image')\n",
    "plt.axis('off')\n",
    "\n",
    "plt.subplot(1, 2, 2)\n",
    "plt.imshow(warped)\n",
    "plt.title('Perspective-Corrected Image')\n",
    "plt.axis('off')\n",
    "\n",
    "plt.show()\n"
   ]
  },
  {
   "cell_type": "code",
   "execution_count": null,
   "id": "21a51dd1-30f1-44ac-91d1-785fb24fdd97",
   "metadata": {},
   "outputs": [],
   "source": []
  }
 ],
 "metadata": {
  "kernelspec": {
   "display_name": "Python (myenv)",
   "language": "python",
   "name": "myenv"
  },
  "language_info": {
   "codemirror_mode": {
    "name": "ipython",
    "version": 3
   },
   "file_extension": ".py",
   "mimetype": "text/x-python",
   "name": "python",
   "nbconvert_exporter": "python",
   "pygments_lexer": "ipython3",
   "version": "3.12.3"
  }
 },
 "nbformat": 4,
 "nbformat_minor": 5
}
