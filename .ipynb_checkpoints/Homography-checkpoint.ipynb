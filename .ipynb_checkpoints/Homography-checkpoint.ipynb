{
 "cells": [
  {
   "cell_type": "code",
   "execution_count": 1,
   "id": "9ef5b7df-c6fc-466f-b768-d73d9c0d2d6c",
   "metadata": {},
   "outputs": [],
   "source": [
    "import cv2\n",
    "import numpy as np\n",
    "\n",
    "# 1. Load\n",
    "img = cv2.imread('tilted.jpg')\n",
    "h_img, w_img = img.shape[:2]\n",
    "\n",
    "# 2. Four corners of the SIGN (in pixel coordinates)\n",
    "#    Replace these with your actual measurements!\n",
    "pts_src = np.float32([\n",
    "    [119, 293],   # top-left of sign\n",
    "    [350, 143],   # top-right of sign\n",
    "    [145, 380],   # bottom-right of sign\n",
    "    [393, 266],   # bottom-left of sign\n",
    "])\n",
    "\n",
    "# 3. Compute output size based on those four points\n",
    "(tl, tr, br, bl) = pts_src\n",
    "widthA   = np.linalg.norm(br - bl)\n",
    "widthB   = np.linalg.norm(tr - tl)\n",
    "maxW     = int(max(widthA, widthB))\n",
    "\n",
    "heightA  = np.linalg.norm(tr - br)\n",
    "heightB  = np.linalg.norm(tl - bl)\n",
    "maxH     = int(max(heightA, heightB))\n",
    "\n",
    "# 4. Destination rectangle\n",
    "pts_dst = np.float32([\n",
    "    [0,      0],\n",
    "    [maxW-1, 0],\n",
    "    [maxW-1, maxH-1],\n",
    "    [0,      maxH-1]\n",
    "])\n",
    "\n",
    "# 5. Compute H and warp\n",
    "H      = cv2.getPerspectiveTransform(pts_src, pts_dst)\n",
    "warped = cv2.warpPerspective(img, H, (maxW, maxH))\n",
    "\n",
    "# 6. Show\n",
    "cv2.imshow('Original', img)\n",
    "cv2.imshow('Straightened Sign', warped)\n",
    "cv2.waitKey(0)\n",
    "cv2.destroyAllWindows()"
   ]
  },
  {
   "cell_type": "code",
   "execution_count": null,
   "id": "e1d7bbc5-3b68-4558-8a95-c84f476aa9ab",
   "metadata": {},
   "outputs": [],
   "source": []
  }
 ],
 "metadata": {
  "kernelspec": {
   "display_name": "Python (myenv)",
   "language": "python",
   "name": "myenv"
  },
  "language_info": {
   "codemirror_mode": {
    "name": "ipython",
    "version": 3
   },
   "file_extension": ".py",
   "mimetype": "text/x-python",
   "name": "python",
   "nbconvert_exporter": "python",
   "pygments_lexer": "ipython3",
   "version": "3.12.3"
  }
 },
 "nbformat": 4,
 "nbformat_minor": 5
}
