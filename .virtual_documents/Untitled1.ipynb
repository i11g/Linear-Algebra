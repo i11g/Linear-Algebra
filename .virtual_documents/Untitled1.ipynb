import cv2
import numpy as np

# Load the image
img = cv2.imread('tilted.jpg')
orig = img.copy()
if img is None:
    raise FileNotFoundError("Make sure 'tilted.jpg' is in this folder.")

pts = []

def on_mouse(event, x, y, flags, param):
    if event == cv2.EVENT_LBUTTONDOWN and len(pts) < 4:
        pts.append((x, y))
        print(f"  ➜  Click #{len(pts)} at ({x}, {y})")
        cv2.circle(img, (x, y), 5, (0, 0, 255), -1)
        cv2.imshow('Select 4 corners', img)

cv2.namedWindow('Select 4 corners')
cv2.setMouseCallback('Select 4 corners', on_mouse)
cv2.imshow('Select 4 corners', img)

print("Click exactly 4 points in the window (Esc to exit)...")
while True:
    key = cv2.waitKey(1) & 0xFF
    if len(pts) >= 4 or key == 27:
        break

cv2.destroyAllWindows()
print("Final points:", pts)

if len(pts) < 4:
    print("Aborted: fewer than 4 points selected.")
    exit()

# 4. Convert to np.float32 and unpack
pts_src = np.array(pts, dtype=np.float32)
(tl, tr, br, bl) = pts_src

# 5. Compute max width and height of the new image
widthA  = np.linalg.norm(br - bl)
widthB  = np.linalg.norm(tr - tl)
maxW    = max(int(widthA), int(widthB))

heightA = np.linalg.norm(tr - br)
heightB = np.linalg.norm(tl - bl)
maxH    = max(int(heightA), int(heightB))

# 6. Define destination corners (perfect rectangle)
pts_dst = np.array([
    [0,      0],
    [maxW-1, 0],
    [maxW-1, maxH-1],
    [0,      maxH-1]
], dtype=np.float32)

# 7. Compute homography H and warp
H       = cv2.getPerspectiveTransform(pts_src, pts_dst)
warped  = cv2.warpPerspective(orig, H, (maxW, maxH))

# 8. Show results
cv2.imshow("Original", orig)
cv2.imshow("Rectified", warped)
print("Press any key to exit.")
cv2.waitKey(0)
cv2.destroyAllWindows()






