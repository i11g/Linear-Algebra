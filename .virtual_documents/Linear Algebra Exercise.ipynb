get_ipython().run_line_magic("matplotlib", " inline")


import numpy as np
import matplotlib.pyplot as plt
import time
from matplotlib.transforms import Affine2D
import skimage.io
import requests
from io import BytesIO
from skimage.io import imread








def plot_vectors(vectors, colors):
    """
    Plots vectors on the xy-plane. The `vectors` parameter is a Python list.
    Each vector is specified in the format [start_x, start_y, end_x, end_y]
    """
    start_x = [v[0] for v in vectors]
    start_y = [v[1] for v in vectors]

    len_x = [v[2] - v[0] for v in vectors]
    len_y = [v[3] - v[0] for v in vectors]

    plt.quiver(start_x, start_y, len_x, len_y, angles = "xy", scale_units = "xy", scale = 1, color = colors)
    plt.xlim(-10, 10)
    plt.ylim( -10, 10)

    plt.gca().set_aspect("equal")
    plt.xticks(range(-10,11))
    plt.yticks(range(-10,11))
   # plt.grid()
    plt.show()    


plot_vectors([[0, 0, 2, 3]], ["red"]) # One vector
plot_vectors([[0, 0, 1, 0], [0, 0, 0, 1]], ["red", "blue"]) # Two orthogonal vectors
plot_vectors([[1, 1, -2, 3], [2, 1, -2.5, 1.5], [-3.2, -1.5, 0, 4.3]], ["red", "blue", "orange"]) # Three arbitrary vectors





def find_linear_combination_coefficients(e1, e2, v):
    """
    Returns the coordinates of the representation of v in the basis {e_1, e_2}.
    That is, the unknown coefficients in the linear combination v = lambda_1 * e_1 + lambda_2 * e_2
    """
    basix_matrix = (np.array([e1, e2]).T)
    return np.linalg.solve(basix_matrix, v)


e1, e2 = [[1, 0], [0, 1]]
v = [3.5, 8.6]
# Find the unknown coefficients. Extract the logic in a function.
# It should accept the two basis vectors and the one we need to represent
# and should return the two coefficients
coefficients = find_linear_combination_coefficients(e1, e2, v)
print("Coefficients: ", str(coefficients))
# Plot the three vectors
plot_vectors([[0, 0, i[0], i[1]] for i in [e1, e2, v, 3.5*np.array(e1), 8.6*np.array(e2)]], ["red", "blue", "green", "orange", "magenta"])





e1, e2 = [[2, 3], [-5, 1]]
coefficients = find_linear_combination_coefficients(e1, e2, v)
print("Coefficients: ", str(coefficients))
plot_vectors([[0, 0, i[0], i[1]] for i in [e1, e2, v]], ["red", "blue", "green"])





e1, e2 = [[3, 4], [-4, 3]]
coefficients = find_linear_combination_coefficients(e1, e2, v)
print("Coefficients: ", str(coefficients))
plot_vectors([[0, 0, i[0], i[1]] for i in [e1, e2, v,]], ["red", "blue", "green"])





e1, e2 = [[0, 5], [4, 0]]
coefficients = find_linear_combination_coefficients(e1, e2, v)
print("Coefficients: ", str(coefficients))
plot_vectors([[0, 0, i[0], i[1]] for i in [e1, e2, v]], ["red", "blue", "green"])








k = [2, 3, 4, 10, 30, 50]


k = np.random.random(20000)


def python_sum(k): 
    total_sum = 0
    for i in k:
        total_sum += i
    return total_sum

def numpy_sum(k): 
    x = np.array(k)
    return np.sum(k)


python_sum(k)


numpy_sum(k)


get_ipython().run_line_magic("timeit", " python_sum(k)")


get_ipython().run_line_magic("timeit", " numpy_sum(k)")


def measured_sum(n):
    numbers = np.random.random(n)

    t0 = time.perf_counter()
    numpy_sum = np.sum(numbers)
    numpy_time = time.perf_counter() - t0

    t0 = time.perf_counter()
    loop_sum = 0.0 
    for x in numbers:
        loop_sum += x
    loop_time = time.perf_counter() - t0

    assert abs(numpy_sum - loop_sum) < 1e-4
    return numpy_time, loop_time


def diff_lengths(lengths):
    times_numpy = []
    times_loop = []

    for n in lengths:
        times_np, times_lp = measured_sum(n)
        times_numpy.append(times_np)
        times_loop.append(times_lp)

    return times_numpy, times_loop


lengths = [10, 10**2, 10**3, 10**4, 10**5, 10**6]

times_numpy, times_loop = diff_lengths(lengths)

plt.figure(figsize=(6,4))
plt.plot(lengths, times_numpy, marker='o', label='NumPy sum')
plt.plot(lengths, times_loop,  marker='s', label='Python loop')
plt.xscale('log')
plt.yscale('log')
plt.xlabel('Array length')
plt.ylabel('Time (s)')
plt.title('Summation Performance Comparison')
plt.legend()
plt.tight_layout()
plt.grid()
plt.show()


lengths = [10, 10**2, 10**3, 10**4, 10**5, 10**6]

times_numpy, times_loop = diff_lengths(lengths)

fig, ax1 = plt.subplots()
ax2 = ax1.twinx()                  

ax1.plot(lengths, times_numpy,  'o-', label='NumPy sum', color = "green")
ax2.plot(lengths, times_loop,   's-', label='Python loop sum')

ax1.set_xscale('log')
ax1.set_yscale('log')
ax2.set_yscale('log')

ax1.set_xlabel('Array length')
ax1.set_ylabel('NumPy sum time (s)')
ax2.set_ylabel('Python loop time (s)')

# Add legends
ax1.legend(loc='upper left')
ax2.legend(loc='upper right')

plt.title('Summation Performance: NumPy vs Python Loop')
plt.tight_layout()
plt.grid()
plt.show()





x = np.array([2, 3, 4])
y = np.array([5, -2, 3])
print("x.y =", str(x.dot(y)))

print("x.shape:", x.shape)
print("y.shape:", y.shape)
print("x:", x)
print("x transpose:", x.T)





x = np.array([[2, 3, 4]]) # Row vector
y = np.array([[5], [-2], [3]]) # Column vector

print("x.shape:", x.shape)
print("y.shape:", y.shape)
print("x.y:\n", x.dot(y)) # Dot product -> still looks like a matrix
print("y.x:\n", y.dot(x)) # Outer product -> matrix








def visualize_transformation(matrix, plot_title):
    fig = plt.figure()
    plt.axis("equal")
    ax = fig.add_subplot(111)    
    
    
    # Limits, labels and grid
    ax.set_xlim(-5, 5)
    ax.set_ylim(-5, 5)
    ax.set_xticks(np.arange(ax.get_xlim()[0], ax.get_xlim()[1] + 1))
    ax.set_yticks(np.arange(ax.get_ylim()[0], ax.get_ylim()[1] + 1))
    ax.set_xticklabels([])
    ax.set_yticklabels([])
    ax.grid()
    ax.set_title(plot_title)

    # Unit vectors
    ax.quiver([0, 0], [0, 0], [1, 0], [0, 1], color = ["red", "blue"], alpha = 0.2, units = "xy", scale = 1)

    # Transformation
    matrix = [
        [matrix[0][0], matrix[0][1], 0],
        [matrix[1][0], matrix[1][1], 0],
        [0, 0, 1],
    ]
    t = Affine2D(matrix)

    [min_x, max_x, min_y, max_y] = [2 * ax.get_xlim()[0], 2 * ax.get_xlim()[1] + 1, 2 * ax.get_ylim()[0], 2 * ax.get_ylim()[1] + 1]

    # New (transformed) grid lines
    # Horizontal
    for y in np.arange(min_y, max_y):
        ax.plot([min_x, max_x], [y] * 2, color = "red", linestyle = "--", linewidth = 2, transform = t + ax.transData)
    # Vertical
    for x in np.arange(min_x, max_x):
        ax.plot([x] * 2, [min_y, max_y], color = "blue", linestyle = "--", linewidth = 2, transform = t + ax.transData)

    # New (transformed) unit vectors
    new_x = t.transform_affine([1, 0])
    new_y = t.transform_affine([0, 1])
    ax.quiver([0, 0], [0, 0], [new_x[0], new_y[0]], [new_x[1], new_y[1]], color = ["red", "blue"], units = "xy", angles = "xy", scale = 1)
   
    plt.show()





# Identity
matrix = [
    [1, 0],
    [0, 1]
]

visualize_transformation(matrix, r"$\mathrm{Identity\ transformation}$")

# Scaling
matrix = [
    [2, 0],
    [0, 1]
]

visualize_transformation(matrix, r"$\mathrm{Scaling}$")

# Shear
matrix = [
    [1, 2],
    [-1, 1]
]

visualize_transformation(matrix, r"$\mathrm{Shear}$")

# Rotation
matrix = [
    [np.cos(np.radians(30)), -np.sin(np.radians(30))],
    [np.sin(np.radians(30)), np.cos(np.radians(30))]
]

visualize_transformation(matrix, r"$\mathrm{30^{\circ}\ rotation}$")

# Projection (linearly dependent rows)
matrix = [
    [1, 2],
    [2, 4]
]

visualize_transformation(matrix, r"$\mathrm{Projection\ (linearly\ dependent\ rows)}$")





matrix = [
    [np.cos(np.radians(60)), -np.sin(np.radians(60))],
    [np.sin(np.radians(60)), np.cos(np.radians(60))]
]

visualize_transformation(matrix, r"$\mathrm{60^{\circ}\ rotation}$")

matrix = [
    [np.cos(np.radians(90)), -np.sin(np.radians(90))],
    [np.sin(np.radians(90)), np.cos(np.radians(90))]
]

visualize_transformation(matrix, r"$\mathrm{90^{\circ}\ rotation}$")


matrix = [
    [1, 1],
    [1, -1]
]
visualize_transformation(matrix, r"$\mathrm{Sheer\ transformation}$")


matrix = [
    [4, 1],
    [1, -1]
]
visualize_transformation(matrix, r"$\mathrm{Sheer\ and\ Scaling\ transformation}$")


def product_transformation(ax, M, title):
    ax.set_aspect("equal")
    ax.set_xlim(-5, 6); 
    ax.set_ylim(-5, 6)
    ax.grid(True)
    ax.set_title(title)

    # original grid
    for y in range(-5, 6):
        ax.plot([ -5, 6 ], [y, y], color="lightgray", lw=1)
    for x in range(-5, 6):
        ax.plot([ x, x ], [-5, 6], color="lightgray", lw=1)

    # draw axes
    ax.quiver(0, 0, 1, 0, color="red", alpha = 0.2,  angles="xy", scale_units="xy", scale=1)
    ax.quiver(0, 0, 0, 1, color="blue", alpha = 0.2, angles="xy", scale_units="xy", scale=1)

    # build homogeneous Affine2D
    H = [[M[0][0], M[0][1], 0],
         [M[1][0], M[1][1], 0],
         [0,        0,        1]]
    t = Affine2D(H)

    # transformed grid
    for y in range(-5, 6):
        ax.plot([-5, 6], [y, y], color = "red", linestyle = "--", linewidth = 2, transform=t + ax.transData)
    for x in range(-5, 6):
        ax.plot([x, x], [-5, 6], color = "blue", linestyle = "--", linewidth = 2,  transform=t + ax.transData)

    # transformed basis
    e1 = t.transform_affine([1, 0])
    e2 = t.transform_affine([0, 1])
    ax.quiver(0, 0, e1[0], e1[1], color="red",  angles="xy", scale_units="xy", scale=1)
    ax.quiver(0, 0, e2[0], e2[1], color="blue", angles="xy", scale_units="xy", scale=1)

# define matrices
T1 = [[1, 1],[1, -1]]
T2 = [[3, 2],[2, -1]]
T3 = np.dot(T1, T2)

# make subplots
fig, (ax1, ax2) = plt.subplots(1, 2, figsize=(10, 6))
product_transformation(ax1, T1, "After T1")
product_transformation(ax2, T3, "After T2 ∘ T1")

plt.tight_layout()
plt.show()


T4 = np.array([
    [1, 1],
    [1, -1]
])


T5 = np.array([
    [3, 2],
    [2, -1]
])


T6 = np.dot(T4, T5)


T6 = [
    [5, 1],
    [1, 3]
]
visualize_transformation(matrix, r"$\mathrm{Product\ transformation}$")





def read_image(url):
    img = skimage.io.imread(url)
    return img


def read_image(url):
    img = skimage.io.imread(url)
    return img


cat_image_url = "https://d17fnq9dkz9hgj.cloudfront.net/uploads/2012/11/140272627-grooming-needs-senior-cat-632x475.jpg"
cat_image = read_image(cat_image_url)


plt.imshow(cat_image)
plt.axis("off")
plt.show()


cat_image[0][0] # First pixel





cat_image_r, cat_image_g, cat_image_b = [cat_image[:, :, i] for i in range(3)]
f, (ax_r, ax_g, ax_b) = plt.subplots(1, 3, figsize = (10, 5))
ax_r.imshow(cat_image_r, cmap = "gray")
ax_r.set_title("Red channel")
ax_g.imshow(cat_image_g, cmap = "gray")
ax_g.set_title("Green channel")
ax_b.imshow(cat_image_b, cmap = "gray")
ax_b.set_title("Blue channel")
plt.setp([ax_r, ax_g, ax_b], xticks = [], yticks = []) # Remove axis ticks
plt.show()





cat_image_r_normalized, cat_image_g_normalized, cat_image_b_normalized = [
    channel / 255 for channel in [cat_image_r, cat_image_g, cat_image_b]
] 
cat_image_gray = (cat_image_r_normalized + cat_image_g_normalized + cat_image_b_normalized) / 3.0  
plt.imshow(cat_image_gray, cmap = "gray")
plt.title("Average grayscale image")
plt.show()





cat_image_gray_corrected = (0.299 * cat_image_r_normalized + 
                            0.587 * cat_image_g_normalized + 
                            0.114 * cat_image_b_normalized)
plt.gca().imshow(cat_image_gray_corrected, cmap = plt.cm.gray)
plt.title("Gamma-corrected grayscale image")
plt.show()





plt.hist(cat_image_gray.ravel(), bins = 256, color = "black")
plt.title("Uncorrected image histogram")
plt.show()
plt.hist(cat_image_gray_corrected.ravel(), bins = 256, color = "red")
plt.title("Corrected image histogram")
plt.show()


# Represent the image as a single-dimensional vector
hist_vector = cat_image_gray.ravel()

# Normalize the image to have values in the range [0; 1]
hist_vector = hist_vector / (hist_vector.max() - hist_vector.min())

plt.hist(hist_vector, bins = 256, color = "black", alpha = 0.5, label = "Uncorrected")
plt.hist(cat_image_gray_corrected.ravel(), bins = 256, color = "red", alpha = 0.5, label = "Corrected")
plt.xlim(0, 1)
plt.title("Image histograms comparison")
plt.legend()
plt.show()





def read_my_image(url):
    img = skimage.io.imread(url)
    return img

buildings_image_url = "https://www.sustainableplaces.eu/wp-content/uploads/2017/02/SmartBuilding.jpg"
build_image = read_my_image(buildings_image_url)

plt.imshow(build_image)
plt.axis("off")
plt.show() 


red_channel = build_image[:, :, 0]

fig, (ax_img, ax_hist) = plt.subplots(1, 2, figsize=(12, 4))

ax_img.imshow(red_channel, cmap='gray')
ax_img.set_title('Red channel')
ax_img.axis('off')

hits_vector = red_channel.ravel()
ax_hist.hist(red_channel.ravel(), bins=256)
hist_vector = hist_vector / (hist_vector.max() - hist_vector.min())
ax_hist.hist(hits_vector, bins=256, color = "red")
ax_hist.set_title('Red channel histogram')
ax_hist.set_xlabel('Pixel value')
ax_hist.set_ylabel('Count')
plt.tight_layout()
plt.show()


green_channel = build_image[:, :, 1]

fig, (ax_img, ax_hist) = plt.subplots(1, 2, figsize=(12, 4))

ax_img.imshow(green_channel, cmap='gray')
ax_img.set_title('Green channel')
ax_img.axis('off')

ax_hist.hist(green_channel.ravel(), bins=256, color = "green")
ax_hist.set_title('Green channel histogram')
ax_hist.set_xlabel('Pixel value')
ax_hist.set_ylabel('Count')

plt.tight_layout()
plt.show()


blue_channel = build_image[:, :, 2]

fig, (ax_img, ax_hist) = plt.subplots(1, 2, figsize=(12, 4))

ax_img.imshow(blue_channel, cmap='gray')
ax_img.set_title('Blue channel')
ax_img.axis('off')

ax_hist.hist(red_channel.ravel(), bins=256)
ax_hist.set_title('Blue channel histogram')
ax_hist.set_xlabel('Pixel value')
ax_hist.set_ylabel('Count')

plt.tight_layout()
plt.show()





import cv2
import numpy as np

img = cv2.imread('Pissa.webp')
orig = img.copy()
if img is None:
    raise FileNotFoundError()

pts = []

def on_mouse(event, x, y, flags, param):
    if event == cv2.EVENT_LBUTTONDOWN and len(pts) < 4:
        pts.append((x, y))
        print(f"  ➜  Click #{len(pts)} at ({x}, {y})")
        cv2.circle(img, (x, y), 5, (0, 0, 255), -1)
        cv2.imshow('Select 4 corners', img)

cv2.namedWindow('Select 4 corners')
cv2.setMouseCallback('Select 4 corners', on_mouse)
cv2.imshow('Select 4 corners', img)

print("Click exactly 4 points in the window (Esc to exit)...")
while True:
    key = cv2.waitKey(1) & 0xFF
    if len(pts) >= 4 or key == 27:
        break

cv2.destroyAllWindows()
print("Final points:", pts)

if len(pts) < 4:
    print("Aborted: fewer than 4 points selected.")
    exit()

pts_src = np.array(pts, dtype=np.float32)
(tl, tr, br, bl) = pts_src

widthA = np.linalg.norm(br - bl)
widthB = np.linalg.norm(tr - tl)
maxW = max(int(widthA), int(widthB))

heightA = np.linalg.norm(tr - br)
heightB = np.linalg.norm(tl - bl)
maxH = max(int(heightA), int(heightB))

pts_dst = np.array([
    [0,      0],
    [maxW-1, 0],
    [maxW-1, maxH-1],
    [0,      maxH-1]
], dtype=np.float32)

H = cv2.getPerspectiveTransform(pts_src, pts_dst)
warped = cv2.warpPerspective(orig, H, (maxW, maxH))

cv2.imshow("Original", orig)
cv2.imshow("Rectified", warped)
print("Press any key to exit.")
cv2.waitKey(0)
cv2.destroyAllWindows()





from matplotlib.ticker import MultipleLocator, FormatStrFormatter

def visualize_transformed_vector(matrix, vec, title):
    """
    Shows the vector (starting at (0; 0)) before and after the transformation
    given by the specified matrix
    """
    fig, ax = plt.subplots(figsize=(6,6))
    ax.set_aspect('equal')

    # figure out a data‐driven limit
    v0 = np.array(vec)
    v1 = matrix.dot(v0)
    R = 1.2 * max(np.linalg.norm(v0), np.linalg.norm(v1))
    ax.set_xlim(-R, R)
    ax.set_ylim(-R, R)

    # ─── set major ticks every 2 units, minor every 1 ───
    ax.xaxis.set_major_locator(MultipleLocator(2))
    ax.xaxis.set_minor_locator(MultipleLocator(1))
    ax.yaxis.set_major_locator(MultipleLocator(2))
    ax.yaxis.set_minor_locator(MultipleLocator(1))

    # ─── format the majors as plain integers (no + sign) ───
    ax.xaxis.set_major_formatter(FormatStrFormatter('%d'))
    ax.yaxis.set_major_formatter(FormatStrFormatter('%d'))

    # ─── grid for both ───
    ax.grid(which='major', linewidth=0.8)
    ax.grid(which='minor', linewidth=0.4, alpha=0.3)
    ax.set_title(title)

    # 2) Original vector in light gray
    ax.quiver( 0, 0, vec[0], vec[1], color="gray", angles="xy", scale_units="xy", scale=1, label="Original")

    # 3) Transformed vector in red
    v_trans = np.dot(matrix, vec)
    ax.quiver( 0, 0, v_trans[0], v_trans[1], color="red", angles="xy", scale_units="xy", scale=1, label="Transformed")

    # 4) Legend
    ax.legend()  
    plt.show()


matrix = np.array([
    [2, -1],
    [1,  1]
])

vec = [3, 2]

visualize_transformed_vector(matrix, vec, title="Vector before & after T")





matrix = np.array([
    [2, -4],
    [-1, -1]
])
vec = [3, 2]

visualize_transformed_vector(matrix, vec , title= "Transformation")





visualize_transformed_vector(matrix, [-4, 1], "Transformation")












