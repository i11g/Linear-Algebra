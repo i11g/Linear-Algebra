import cv2
import numpy as np

# 1. Load
img = cv2.imread('tilt-1.jpg')
h_img, w_img = img.shape[:2]

# 2. Four corners of the SIGN (in pixel coordinates)
#    Replace these with your actual measurements!
pts_src = np.float32([
    [119, 293],   # top-left of sign
    [350, 143],   # top-right of sign
    [393, 266],   # bottom-right of sign
    [145, 380],   # bottom-left of sign
])

# 3. Compute output size based on those four points
(tl, tr, br, bl) = pts_src
widthA   = np.linalg.norm(br - bl)
widthB   = np.linalg.norm(tr - tl)
maxW     = int(max(widthA, widthB))

heightA  = np.linalg.norm(tr - br)
heightB  = np.linalg.norm(tl - bl)
maxH     = int(max(heightA, heightB))

# 4. Destination rectangle
pts_dst = np.float32([
    [0,      0],
    [maxW-1, 0],
    [maxW-1, maxH-1],
    [0,      maxH-1]
])

# 5. Compute H and warp
H      = cv2.getPerspectiveTransform(pts_src, pts_dst)
warped = cv2.warpPerspective(img, H, (maxW, maxH))

# 6. Show
cv2.imshow('Original', img)
cv2.imshow('Straightened Sign', warped)
cv2.waitKey(0)
cv2.destroyAllWindows()



