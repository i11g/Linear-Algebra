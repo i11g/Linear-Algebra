get_ipython().run_line_magic("matplotlib", " notebook")
import cv2
import numpy as np
import matplotlib
matplotlib.use('TkAgg')   # or 'Qt5Agg' if you have Qt installed
import matplotlib.pyplot as plt

# 1. Load the tilted image
img = cv2.imread('1.jpg')
if img is None:
    raise FileNotFoundError("Make sure 'tilted.jpg' is in your working directory.")
# Convert BGR to RGB for matplotlib
img_rgb = cv2.cvtColor(img, cv2.COLOR_BGR2RGB)

# 2. Display and select 4 corners with matplotlib
plt.figure()
plt.imshow(img_rgb)
plt.title('Click 4 corners of the document (in order)')
plt.axis('off')
pts_src = plt.ginput(4, timeout=0)
plt.close()
pts_src = np.array(pts_src, dtype=np.float32)

# 3. Define destination rectangle (adjust w,h as needed)
w, h = 620, 434
pts_dst = np.array([
    [0,   0],
    [w-1, 0],
    [w-1, h-1],
    [0,   h-1]
], dtype=np.float32)

# 4. Compute homography
H = cv2.getPerspectiveTransform(pts_src, pts_dst)

# 5. Warp perspective
warped = cv2.warpPerspective(img_rgb, H, (w, h))

# 6. Display original and rectified side by side
plt.figure(figsize=(12, 6))
plt.subplot(1, 2, 1)
plt.imshow(img_rgb)
plt.title('Original Tilted Image')
plt.axis('off')

plt.subplot(1, 2, 2)
plt.imshow(warped)
plt.title('Perspective-Corrected Image')
plt.axis('off')

plt.show()




