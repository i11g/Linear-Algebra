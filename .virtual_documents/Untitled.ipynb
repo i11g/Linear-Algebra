import numpy as np
import matplotlib.pyplot as plt
import imageio

# 1. Read the image into a NumPy array of shape (H, W, 3)
img = imageio.imread('your_image.png')  # e.g. shape = (H, W, 3)

# 2. Split into three 2D matrices
red_channel   = img[:, :, 0]
green_channel = img[:, :, 1]
blue_channel  = img[:, :, 2]

# 3. Plot them in a 1×3 grid
fig, axes = plt.subplots(1, 3, figsize=(12, 4))
axes[0].imshow(red_channel,   cmap='gray'); axes[0].set_title('Red Channel');   axes[0].axis('off')
axes[1].imshow(green_channel, cmap='gray'); axes[1].set_title('Green Channel'); axes[1].axis('off')
axes[2].imshow(blue_channel,  cmap='gray'); axes[2].set_title('Blue Channel');  axes[2].axis('off')
plt.tight_layout()
plt.show()



